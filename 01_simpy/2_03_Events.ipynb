{
 "cells": [
  {
   "cell_type": "markdown",
   "id": "fffb1f99-49a7-4b2a-92f4-e0bf07c66748",
   "metadata": {},
   "source": [
    "## Events\n",
    "SimPy includes an extensive set of event types for various purposes. All of them inherit simpy.events.Event. The listing below shows the hierarchy of events built into SimPy:"
   ]
  },
  {
   "cell_type": "code",
   "execution_count": null,
   "id": "09f03283-5300-467d-9c9e-27be7ba8de22",
   "metadata": {},
   "outputs": [],
   "source": [
    "'''\n",
    "events.Event\n",
    "|\n",
    "+— events.Timeout\n",
    "|\n",
    "+— events.Initialize\n",
    "|\n",
    "+— events.Process\n",
    "|\n",
    "+— events.Condition\n",
    "|  |\n",
    "|  +— events.AllOf\n",
    "|  |\n",
    "|  +— events.AnyOf\n",
    ".\n",
    ".\n",
    ".\n",
    "'''"
   ]
  },
  {
   "cell_type": "markdown",
   "id": "ae21c8ca-4411-40ee-b1f0-2d0a3414cca5",
   "metadata": {},
   "source": [
    "This is the set of basic events. Events are extensible and resources, for example, define additional events. In this guide, we’ll focus on the events in the simpy.events module. The guide to resources describes the various resource events.\n"
   ]
  },
  {
   "cell_type": "markdown",
   "id": "8f94542e-a236-4fda-b95f-67c7cee8e832",
   "metadata": {},
   "source": [
    "## Event basics\n",
    "SimPy events are very similar – if not identical — to deferreds, futures or promises. Instances of the class Event are used to describe any kind of events. Events can be in one of the following states. An event\n",
    "\n",
    "- might happen (not triggered),\n",
    "\n",
    "- is going to happen (triggered) or\n",
    "\n",
    "- has happened (processed).\n",
    "\n",
    "They traverse these states exactly once in that order. Events are also tightly bound to time and time causes events to advance their state.\n",
    "\n",
    "Initially, events are not triggered and just objects in memory.\n",
    "\n",
    "If an event gets triggered, it is scheduled at a given time and inserted into SimPy’s event queue. The property Event.triggered becomes True.\n",
    "\n",
    "As long as the event is not processed, you can add callbacks to an event. Callbacks are callables that accept an event as parameter and are stored in the Event.callbacks list.\n",
    "\n",
    "An event becomes processed when SimPy pops it from the event queue and calls all of its callbacks. It is now no longer possible to add callbacks. The property Event.processed becomes True.\n",
    "\n",
    "Events also have a value. The value can be set before or when the event is triggered and can be retrieved via Event.value or, within a process, by yielding the event (value = yield event).\n"
   ]
  },
  {
   "cell_type": "markdown",
   "id": "6cd34535-88d9-4185-ad68-65bda35845ed",
   "metadata": {},
   "source": [
    "## Adding callbacks to an event\n",
    "“What? Callbacks? I’ve never seen no callbacks!”, you might think if you have worked your way through the tutorial.\n",
    "\n",
    "That’s on purpose. The most common way to add a callback to an event is yielding it from your process function (yield event). This will add the process’ _resume() method as a callback. That’s how your process gets resumed when it yielded an event.\n",
    "\n",
    "However, you can add any callable object (function) to the list of callbacks as long as it accepts an event instance as its single parameter:\n"
   ]
  },
  {
   "cell_type": "code",
   "execution_count": null,
   "id": "e99affcc-34d8-4c18-bc4f-eebe2163555f",
   "metadata": {},
   "outputs": [],
   "source": [
    "import simpy\n",
    "\n",
    "def my_callback(event):\n",
    "    print(\"AAA\")\n",
    "    print('Called back from', event)\n",
    "\n",
    "env = simpy.Environment()\n",
    "event = env.event()\n",
    "print(\"BBB\")\n",
    "event.callbacks.append(my_callback)\n",
    "print(\"CCC\")\n",
    "print(event.callbacks)\n"
   ]
  },
  {
   "cell_type": "markdown",
   "id": "6a62c4a4-668f-4216-a0a5-62e7fcd3a1f1",
   "metadata": {},
   "source": [
    "If an event has been processed, all of its Event.callbacks have been executed and the attribute is set to None. This is to prevent you from adding more callbacks – these would of course never get called because the event has already happened.\n",
    "\n",
    "Processes are smart about this, though. If you yield a processed event, _resume() will immediately resume your process with the value of the event (because there is nothing to wait for)."
   ]
  },
  {
   "cell_type": "markdown",
   "id": "0162cf37-9494-4dcb-b98b-df201752b603",
   "metadata": {},
   "source": [
    "## Triggering events\n",
    "When events are triggered, they can either succeed or fail. For example, if an event is to be triggered at the end of a computation and everything works out fine, the event will succeed. If an exception occurs during that computation, the event will fail.\n",
    "\n",
    "To trigger an event and mark it as successful, you can use Event.succeed(value=None). You can optionally pass a value to it (e.g., the results of a computation).\n",
    "\n",
    "To trigger an event and mark it as failed, call Event.fail(exception) and pass an Exception instance to it (e.g., the exception you caught during your failed computation).\n",
    "\n",
    "There is also a generic way to trigger an event: Event.trigger(event). This will take the value and outcome (success or failure) of the event passed to it.\n",
    "\n",
    "Event.succeed() and Event.fail() methods return the event instance they are bound to. This allows you to do things like yield Event(env).succeed().\n",
    "\n",
    "Event.trigger() returns None."
   ]
  },
  {
   "cell_type": "markdown",
   "id": "6a5842f4-e6eb-4659-b532-f0cef62f8b7e",
   "metadata": {},
   "source": [
    "## Example usages for Event\n",
    "The simple mechanics outlined above provide a great flexibility in the way events (even the basic Event) can be used.\n",
    "\n",
    "One example for this is that events can be shared. They can be created by a process or outside of the context of a process. They can be passed to other processes and chained:"
   ]
  },
  {
   "cell_type": "code",
   "execution_count": null,
   "id": "33cbeb34-5e94-4880-b445-e470fc90443b",
   "metadata": {},
   "outputs": [],
   "source": [
    "class School:\n",
    "    def __init__(self, env):\n",
    "        self.env = env\n",
    "        print(\"AAA\")\n",
    "        self.class_ends = env.event()\n",
    "        print(\"BBB\")\n",
    "        #self.pupil_procs = [env.process(self.pupil()) for i in range(3)]\n",
    "        self.pupil_procs = [env.process(self.pupil2()) for i in range(3)]\n",
    "\n",
    "        print(\"CCC\")\n",
    "        self.bell_proc = env.process(self.bell())\n",
    "        print(\"DDD\")\n",
    "\n",
    "    def bell(self):\n",
    "        for i in range(2):\n",
    "        #for i in range(3):\n",
    "            \n",
    "            yield self.env.timeout(45)\n",
    "            print('\\n now=%d' % (env.now))\n",
    "            print(\"EEE\")\n",
    "            self.class_ends.succeed()\n",
    "            print(\"FFF\")\n",
    "            self.class_ends = self.env.event()\n",
    "            print(\"GGG\")\n",
    "            print()\n",
    "\n",
    "\n",
    "    def pupil(self):\n",
    "        for i in range(2):\n",
    "            print(\"pupil i=\",i)\n",
    "            print(r' \\o/', end='')\n",
    "            yield self.class_ends\n",
    "\n",
    "\n",
    "    def pupil2(self):\n",
    "        for j in range(2):\n",
    "            print(\"pupil j=\",j)\n",
    "            print(r' \\o/', end='')\n",
    "            yield self.class_ends\n",
    "\n",
    "\n",
    "\n",
    "school = School(env)\n",
    "print(\"HHHHHHHHHHHHH\")\n",
    "env.run()"
   ]
  },
  {
   "cell_type": "markdown",
   "id": "386f1baf-1fd5-48ae-952d-7c1a1ca404db",
   "metadata": {},
   "source": [
    "This can also be used like the passivate / reactivate known from SimPy 2. The pupils passivate when class begins and are reactivated when the bell rings.\n"
   ]
  },
  {
   "cell_type": "markdown",
   "id": "d865b947-3f1d-4c02-b776-98229d5d0e00",
   "metadata": {},
   "source": [
    "## Let time pass by: the Timeout\n",
    "To actually let time pass in a simulation, there is the timeout event. A timeout has two parameters: a delay and an optional value: Timeout(delay, value=None). It triggers itself during its creation and schedules itself at now + delay. Thus, the succeed() and fail() methods cannot be called again and you have to pass the event value to it when you create the timeout.\n",
    "\n",
    "The delay can be any kind of number, usually an int or float as long as it supports comparison and addition."
   ]
  },
  {
   "cell_type": "markdown",
   "id": "22680262-e9c9-4b33-b16f-c854c7334755",
   "metadata": {},
   "source": [
    "## Processes are events, too\n",
    "SimPy processes (as created by Process or env.process()) have the nice property of being events, too.\n",
    "\n",
    "That means, that a process can yield another process. It will then be resumed when the other process ends. The event’s value will be the return value of that process:"
   ]
  },
  {
   "cell_type": "code",
   "execution_count": null,
   "id": "1189ad0a-d939-4851-8b6c-553ace46f0e8",
   "metadata": {},
   "outputs": [],
   "source": [
    "import simpy\n",
    "\n",
    "def sub(env):\n",
    "    print('now=%d' % (env.now))\n",
    "    yield env.timeout(1)\n",
    "    return 23\n",
    "\n",
    "def parent(env):\n",
    "    ret = yield env.process(sub(env))\n",
    "    return ret\n",
    "    \n",
    "env = simpy.Environment()\n",
    "env.run(env.process(parent(env)))"
   ]
  },
  {
   "cell_type": "markdown",
   "id": "46438fba-aa4f-42e0-95a9-fd5bc27e38ff",
   "metadata": {},
   "source": [
    "When a process is created, it schedules an Initialize event which will start the execution of the process when triggered. You usually won’t have to deal with this type of event.\n",
    "\n",
    "If you don’t want a process to start immediately but after a certain delay, you can use simpy.util.start_delayed(). This method returns a helper process that uses a timeout before actually starting a process.\n",
    "\n",
    "The example from above, but with a delayed start of sub():"
   ]
  },
  {
   "cell_type": "code",
   "execution_count": null,
   "id": "f32e2905-3046-469f-a341-74447ad85c5b",
   "metadata": {},
   "outputs": [],
   "source": [
    "import simpy\n",
    "from simpy.util import start_delayed\n",
    "\n",
    "def sub(env):\n",
    "    print('now=%d' % (env.now))\n",
    "    yield env.timeout(1)\n",
    "    return 23\n",
    "\n",
    "def parent(env):\n",
    "    sub_proc = yield start_delayed(env, sub(env), delay=3)\n",
    "    ret = yield sub_proc\n",
    "    return ret\n",
    "\n",
    "env.run(env.process(parent(env)))"
   ]
  },
  {
   "cell_type": "markdown",
   "id": "45a5f7a8-8ef3-4745-8bb2-671f7ff2a42d",
   "metadata": {},
   "source": [
    "Pay attention to the additional yield needed for the helper process."
   ]
  },
  {
   "cell_type": "markdown",
   "id": "22347b2b-f122-4361-a1d4-426278ec0cce",
   "metadata": {},
   "source": [
    "## Waiting for multiple events at once\n",
    "Sometimes, you want to wait for more than one event at the same time. For example, you may want to wait for a resource, but not for an unlimited amount of time. Or you may want to wait until a set of events has happened.\n",
    "\n",
    "SimPy therefore offers the AnyOf and AllOf events which both are a Condition event.\n",
    "\n",
    "Both take a list of events as an argument and are triggered when any (at least one) or all of them are triggered."
   ]
  },
  {
   "cell_type": "code",
   "execution_count": null,
   "id": "561f9bca-0dd1-48e4-a37f-183ba9ac74df",
   "metadata": {},
   "outputs": [],
   "source": [
    "from simpy.events import AnyOf, AllOf, Event\n",
    "events = [Event(env) for i in range(3)]\n",
    "a = AnyOf(env, events)  # Triggers if at least one of \"events\" is triggered.\n",
    "b = AllOf(env, events)  # Triggers if all each of \"events\" is triggered."
   ]
  },
  {
   "cell_type": "markdown",
   "id": "ec3447f7-8bed-4f79-8ea9-bede1818f3b4",
   "metadata": {},
   "source": [
    "The value of a condition event is an ordered dictionary with an entry for every triggered event. In the case of AllOf, the size of that dictionary will always be the same as the length of the event list. The value dict of AnyOf will have at least one entry. In both cases, the event instances are used as keys and the event values will be the values.\n",
    "\n",
    "As a shorthand for AllOf and AnyOf, you can also use the logical operators & (and) and | (or):"
   ]
  },
  {
   "cell_type": "code",
   "execution_count": null,
   "id": "836f75e9-a606-4b21-9cf9-0c30d73945b0",
   "metadata": {},
   "outputs": [],
   "source": [
    "import simpy\n",
    "env = simpy.Environment()\n",
    "\n",
    "def test_condition(env):\n",
    "    print('1 now=%d' % (env.now))\n",
    "    t1, t2 = env.timeout(1, value='spam'), env.timeout(2, value='eggs')\n",
    "    ret = yield t1 | t2\n",
    "    assert ret == {t1: 'spam'}\n",
    "\n",
    "    print('2 now=%d' % (env.now))\n",
    "    t1, t2 = env.timeout(1, value='spam'), env.timeout(2, value='eggs')\n",
    "    ret = yield t1 & t2\n",
    "    assert ret == {t1: 'spam', t2: 'eggs'}\n",
    "\n",
    "    print('3 now=%d' % (env.now))\n",
    "    # You can also concatenate & and |\n",
    "    e1, e2, e3 = [env.timeout(i) for i in range(3)]\n",
    "    yield (e1 | e2) & e3\n",
    "    assert all(e.processed for e in [e1, e2, e3])\n",
    "\n",
    "    print('4 now=%d' % (env.now))\n",
    "    \n",
    "proc = env.process(test_condition(env))\n",
    "env.run()"
   ]
  },
  {
   "cell_type": "markdown",
   "id": "850e67e2-b39e-44b1-836b-971d472e9ba1",
   "metadata": {},
   "source": [
    "The order of condition results is identical to the order in which the condition events were specified. This allows the following idiom for conveniently fetching the values of multiple events specified in an and condition (including AllOf):\n"
   ]
  },
  {
   "cell_type": "code",
   "execution_count": null,
   "id": "dc9a80de-1213-4aa0-a700-443da512e81c",
   "metadata": {},
   "outputs": [],
   "source": [
    "def fetch_values_of_multiple_events(env):\n",
    "    t1, t2 = env.timeout(1, value='spam'), env.timeout(2, value='eggs')\n",
    "    r1, r2 = (yield t1 & t2).values()\n",
    "    assert r1 == 'spam' and r2 == 'eggs'\n",
    "\n",
    "proc = env.process(fetch_values_of_multiple_events(env))\n",
    "env.run()"
   ]
  },
  {
   "cell_type": "code",
   "execution_count": null,
   "id": "62be46ba-6680-49d6-8cb9-cd113f89bb83",
   "metadata": {},
   "outputs": [],
   "source": []
  }
 ],
 "metadata": {
  "kernelspec": {
   "display_name": "Python [conda env:base] *",
   "language": "python",
   "name": "conda-base-py"
  },
  "language_info": {
   "codemirror_mode": {
    "name": "ipython",
    "version": 3
   },
   "file_extension": ".py",
   "mimetype": "text/x-python",
   "name": "python",
   "nbconvert_exporter": "python",
   "pygments_lexer": "ipython3",
   "version": "3.11.7"
  }
 },
 "nbformat": 4,
 "nbformat_minor": 5
}
