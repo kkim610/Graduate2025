{
 "cells": [
  {
   "cell_type": "markdown",
   "id": "ae8b0895-5c22-4385-8062-3f3b15e711fc",
   "metadata": {},
   "source": [
    "# Shared Resources\n",
    "Shared resources are another way to model Process Interaction. They form a congestion point where processes queue up in order to use them.\n",
    "\n",
    "SimPy defines three categories of resources:\n",
    "\n",
    "Resources – Resources that can be used by a limited number of processes at a time (e.g., a gas station with a limited number of fuel pumps). 은행창구, 주유소 연료 펌프, 키오스크 처럼 고객이 사용중이면 다른 고객은 기다려야 한다 \n",
    "\n",
    "Containers – Resources that model the production and consumption of a homogeneous, undifferentiated bulk. It may either be continuous (like water) or discrete (like apples). 주유소 연료처럼 용량이 있어, 고객이 일정량 사용하면 용량이 줄어들고, 경우에 따라 다시 특정 용량까지 채워넣기도 한다.\n",
    "\n",
    "Stores – Resources that allow the production and consumption of Python objects."
   ]
  },
  {
   "cell_type": "markdown",
   "id": "bdbc6fde-66db-4a85-a269-da85afcac59b",
   "metadata": {},
   "source": [
    "## The basic concept of resources\r\n",
    "All resources share the same basic concept: The resource itself is some kind of a container with a, usually limited, capacity. Processes can either try to put something into the resource or try to get something out. If the resource is full or empty, they have to queue up and wait.\r\n",
    "\r\n",
    "This is roughly how every resource looks:"
   ]
  },
  {
   "cell_type": "code",
   "execution_count": null,
   "id": "931f3d3b-42cb-4dd9-ae91-f00db325bfef",
   "metadata": {},
   "outputs": [],
   "source": [
    "'''\n",
    "BaseResource(capacity):\n",
    "   put_queue\n",
    "   get_queue\n",
    "\n",
    "   put(): event\n",
    "   get(): event\n",
    "'''"
   ]
  },
  {
   "cell_type": "markdown",
   "id": "4ad891b5-6b6a-4a14-a897-56637306c89a",
   "metadata": {},
   "source": [
    "Every resource has a maximum capacity and two queues: one for processes that want to put something into it and one for processes that want to get something out. The put() and get() methods both return an event that is triggered when the corresponding action was successful."
   ]
  },
  {
   "cell_type": "markdown",
   "id": "778021d1-5e94-4eab-b9b2-fe82f513c26c",
   "metadata": {},
   "source": [
    "## Resources and interrupts\n",
    "While a process is waiting for a put or get event to succeed, it may be interrupted by another process. After catching the interrupt, the process has two possibilities:\n",
    "\n",
    "1. It may continue to wait for the request (by yielding the event again).\n",
    "\n",
    "2. It may stop waiting for the request. In this case, it has to call the event’s cancel() method.\n",
    "\n",
    "Since you can easily forget this, all resources events are context managers (see the Python docs for details).\n",
    "\n",
    "The resource system is modular and extensible. Resources can, for example, use specialized queues and event types. This allows them to use sorted queues, to add priorities to events, or to offer preemption."
   ]
  },
  {
   "cell_type": "markdown",
   "id": "d14c12d8-94b7-41fd-bffb-eeb2f70a99e3",
   "metadata": {},
   "source": [
    "## Resources\n",
    "Resources can be used by a limited number of processes at a time (e.g., a gas station with a limited number of fuel pumps). Processes request these resources to become a user (or to “own” them) and have to release them once they are done (e.g., vehicles arrive at the gas station, use a fuel-pump, if one is available, and leave when they are done).\n",
    "\n",
    "Requesting a resource is modeled as “putting a process’ token into the resource” and releasing a resource correspondingly as “getting a process’ token out of the resource”. Thus, calling request()/release() is equivalent to calling put()/get(). Releasing a resource will always succeed immediately.\n",
    "\n",
    "SimPy implements three resource types:\n",
    "\n",
    "1. Resource\n",
    "\n",
    "2. PriorityResource, where queueing processes are sorted by priority\n",
    "\n",
    "3. PreemptiveResource, where processes additionally may preempt other processes with a lower priority"
   ]
  },
  {
   "cell_type": "markdown",
   "id": "0827b426-f4ec-4bf9-ba9b-43912771c037",
   "metadata": {},
   "source": [
    "## Resource\n",
    "The Resource is conceptually a semaphore. Its only parameter – apart from the obligatory reference to an Environment – is its capacity. It must be a positive number and defaults to 1: Resource(env, capacity=1).\n",
    "\n",
    "Instead of just counting its current users, it stores the request event as an “access token” for each user. This is, for example, useful for adding preemption (see below).\n",
    "\n",
    "Here is a basic example for using a resource:"
   ]
  },
  {
   "cell_type": "code",
   "execution_count": null,
   "id": "abb13d76-7216-469f-bbfc-22aa9e6ef7a1",
   "metadata": {},
   "outputs": [],
   "source": [
    "import simpy\n",
    "\n",
    "def resource_user(env, resource):\n",
    "    request = resource.request()  # Generate a request event\n",
    "    yield request                 # Wait for access\n",
    "    yield env.timeout(1)          # Do something\n",
    "    resource.release(request)     # Release the resource\n",
    "\n",
    "env = simpy.Environment()\n",
    "res = simpy.Resource(env, capacity=1)\n",
    "user = env.process(resource_user(env, res))\n",
    "env.run()"
   ]
  },
  {
   "cell_type": "markdown",
   "id": "a985f94e-9940-473f-bc76-6ce11d8cb05a",
   "metadata": {},
   "source": [
    "Note, that you have to release the resource under all conditions; for example, if you got interrupted while waiting for or using the resource. In order to help you with that and to avoid too many try: ... finally: ... constructs, request events can be used as context manager:"
   ]
  },
  {
   "cell_type": "code",
   "execution_count": null,
   "id": "e939678c-f7bd-4bc8-901b-fc009b13ece7",
   "metadata": {},
   "outputs": [],
   "source": [
    "def resource_user(env, resource):\n",
    "    with resource.request() as req:  # Generate a request event\n",
    "        yield req                    # Wait for access\n",
    "        yield env.timeout(1)         # Do something\n",
    "                                     # Resource released automatically\n",
    "user = env.process(resource_user(env, res))\n",
    "env.run()"
   ]
  },
  {
   "cell_type": "markdown",
   "id": "a15e341f-f24c-4783-b933-71946616e5e6",
   "metadata": {},
   "source": [
    "Resources allow you to retrieve lists of the current users or queued users, the number of current users and the resource’s capacity:"
   ]
  },
  {
   "cell_type": "code",
   "execution_count": null,
   "id": "c7b440bb-804c-4bee-a87b-4a535b245133",
   "metadata": {},
   "outputs": [],
   "source": [
    "res = simpy.Resource(env, capacity=1)\n",
    "\n",
    "def print_stats(res):\n",
    "    print(f'{res.count} of {res.capacity} slots are allocated.')\n",
    "    print(f'  Users: {res.users}')\n",
    "    print(f'  Queued events: {res.queue}')\n",
    "\n",
    "\n",
    "def user(res):\n",
    "    print_stats(res)\n",
    "    with res.request() as req:\n",
    "        yield req\n",
    "        print_stats(res)\n",
    "    print_stats(res)\n",
    "\n",
    "procs = [env.process(user(res)), env.process(user(res))]\n",
    "env.run()"
   ]
  },
  {
   "cell_type": "markdown",
   "id": "2daf7a19-ef3c-45ff-bab1-25a24b64aa49",
   "metadata": {},
   "source": [
    "## PriorityResource\r\n",
    "As you may know from the real world, everything is not equally important. To map that to SimPy, there’s the PriorityResource. This subclass of Resource lets requesting processes provide a priority for each request. More important requests will gain access to the resource earlier than less important ones. Priority is expressed by integer numbers; smaller numbers mean a higher priority.\r\n",
    "\r\n",
    "Apart from that, it works like a normal Resource:"
   ]
  },
  {
   "cell_type": "code",
   "execution_count": null,
   "id": "43c17b67-b0b6-48af-bc47-db354dc0d2b1",
   "metadata": {},
   "outputs": [],
   "source": [
    "def resource_user(name, env, resource, wait, prio):\n",
    "    yield env.timeout(wait)\n",
    "    with resource.request(priority=prio) as req:\n",
    "        print(f'{name} requesting at {env.now} with priority={prio}')\n",
    "        yield req\n",
    "        print(f'{name} got resource at {env.now}')\n",
    "        yield env.timeout(3)\n",
    "\n",
    "env = simpy.Environment()\n",
    "res = simpy.PriorityResource(env, capacity=1)\n",
    "p1 = env.process(resource_user(1, env, res, wait=0, prio=0))\n",
    "p2 = env.process(resource_user(2, env, res, wait=1, prio=0))\n",
    "p3 = env.process(resource_user(3, env, res, wait=2, prio=-1))\n",
    "env.run()"
   ]
  },
  {
   "cell_type": "markdown",
   "id": "b5098290-34f8-4b04-affd-f830a5585d5b",
   "metadata": {},
   "source": [
    "Although p3 requested the resource later than p2, it could use it earlier because its priority was higher."
   ]
  },
  {
   "cell_type": "markdown",
   "id": "2bcd8cba-04f5-4d33-990b-476759c28b9e",
   "metadata": {},
   "source": [
    "## PreemptiveResource\r\n",
    "Sometimes, new requests are so important that queue-jumping is not enough and they need to kick existing users out of the resource (this is called preemption). The PreemptiveResource allows you to do exactly this:"
   ]
  },
  {
   "cell_type": "code",
   "execution_count": null,
   "id": "837740dd-358a-414e-9919-c89cd10d4ee3",
   "metadata": {},
   "outputs": [],
   "source": [
    "def resource_user(name, env, resource, wait, prio):\n",
    "    yield env.timeout(wait)\n",
    "    with resource.request(priority=prio) as req:\n",
    "        print(f'{name} requesting at {env.now} with priority={prio}')\n",
    "        yield req\n",
    "        print(f'{name} got resource at {env.now}')\n",
    "        try:\n",
    "            yield env.timeout(3)\n",
    "            print(f'{name} release resource at {env.now}')            \n",
    "        except simpy.Interrupt as interrupt:\n",
    "            by = interrupt.cause.by\n",
    "            usage = env.now - interrupt.cause.usage_since\n",
    "            print(f'{name} got preempted by {by} at {env.now}'\n",
    "                  f' after {usage}')\n",
    "\n",
    "env = simpy.Environment()\n",
    "res = simpy.PreemptiveResource(env, capacity=1)\n",
    "p1 = env.process(resource_user(1, env, res, wait=0, prio=0))\n",
    "p2 = env.process(resource_user(2, env, res, wait=1, prio=0))\n",
    "p3 = env.process(resource_user(3, env, res, wait=2, prio=-1))\n",
    "env.run()"
   ]
  },
  {
   "cell_type": "markdown",
   "id": "a0129791-83ec-4d9f-9261-28251d6fa870",
   "metadata": {},
   "source": [
    "PreemptiveResource inherits from PriorityResource and adds a preempt flag (that defaults to True) to request(). **By setting this to False (resource.request(priority=x, preempt=False)), a process can decide to not preempt another resource user**. It will still be put in the queue according to its priority, though.\n",
    "\n",
    "The implementation of PreemptiveResource values priorities higher than preemption. That means preempt requests are not allowed to cheat and jump over a higher prioritized request. The following example shows that preemptive low priority requests cannot queue-jump over high priority requests:"
   ]
  },
  {
   "cell_type": "code",
   "execution_count": null,
   "id": "b2f3ba50-9938-42a3-883e-84fe4834ea38",
   "metadata": {},
   "outputs": [],
   "source": [
    "def user(name, env, res, prio, preempt):\n",
    "    with res.request(priority=prio, preempt=preempt) as req:\n",
    "        try:\n",
    "            print(f'{name} requesting at {env.now}')\n",
    "            assert isinstance(env.now, int), type(env.now)\n",
    "            yield req\n",
    "            assert isinstance(env.now, int), type(env.now)\n",
    "            print(f'{name} got resource at {env.now}')\n",
    "            yield env.timeout(3)\n",
    "            print(f'{name} release resource at {env.now}')            \n",
    "\n",
    "        except simpy.Interrupt:\n",
    "            print(f'{name} got preempted at {env.now}')\n",
    "\n",
    "env = simpy.Environment()\n",
    "res = simpy.PreemptiveResource(env, capacity=1)\n",
    "A = env.process(user('A', env, res, prio=0, preempt=True))\n",
    "env.run(until=1)  \n",
    "\n",
    "print(\" ##############\")\n",
    "B = env.process(user('B', env, res, prio=-2, preempt=False))\n",
    "C = env.process(user('C', env, res, prio=-1, preempt=True))\n",
    "env.run()"
   ]
  },
  {
   "cell_type": "markdown",
   "id": "5578863c-bb7c-4199-8390-27396b49fafc",
   "metadata": {},
   "source": [
    "1. Process A requests the resource with priority 0. It immediately becomes a user.\n",
    "\n",
    "2. Process B requests the resource with priority -2 but sets preempt to False. It will queue up and wait.\n",
    "\n",
    "3. Process C requests the resource with priority -1 but leaves preempt True. Normally, it would preempt A but in this case, B is queued up before C and prevents C from preempting A. C can also not preempt B since its priority is not high enough.\n",
    "\n",
    "Thus, the behavior in the example is the same as if no preemption was used at all. Be careful when using mixed preemption!\n",
    "\n",
    "Due to the higher priority of process B, no preemption occurs in this example. Note that an additional request with a priority of -3 would be able to preempt A.\n",
    "\n",
    "If your use-case requires a different behaviour, for example queue-jumping or valuing preemption over priorities, you can subclass PreemptiveResource and override the default behaviour."
   ]
  },
  {
   "cell_type": "markdown",
   "id": "e14b8678-6df0-477a-9249-1b81a8dfcd35",
   "metadata": {},
   "source": [
    "## Containers\n",
    "Containers help you modelling the production and consumption of a homogeneous, undifferentiated bulk. It may either be continuous (like water) or discrete (like apples).\n",
    "\n",
    "You can use this, for example, to model the gas / petrol tank of a gas station. Tankers increase the amount of gasoline in the tank while cars decrease it.\n",
    "\n",
    "The following example is a very simple model of a gas station with a limited number of fuel dispensers (modeled as Resource) and a tank modeled as Container:"
   ]
  },
  {
   "cell_type": "code",
   "execution_count": null,
   "id": "86aa8dec-1f28-456e-90b8-ec015cb0fc6b",
   "metadata": {},
   "outputs": [],
   "source": [
    "class GasStation:\n",
    "    def __init__(self, env):\n",
    "        self.fuel_dispensers = simpy.Resource(env, capacity=2)\n",
    "        self.gas_tank = simpy.Container(env, init=100, capacity=1000)\n",
    "        self.mon_proc = env.process(self.monitor_tank(env))\n",
    "\n",
    "    def monitor_tank(self, env):\n",
    "        while True:\n",
    "            if self.gas_tank.level < 100:\n",
    "                print(f'Calling tanker at {env.now}')\n",
    "                env.process(tanker(env, self))\n",
    "            yield env.timeout(15)\n",
    "\n",
    "\n",
    "def tanker(env, gas_station):\n",
    "    yield env.timeout(10)  # Need 10 Minutes to arrive\n",
    "    print(f'Tanker arriving at {env.now}')\n",
    "    amount = gas_station.gas_tank.capacity - gas_station.gas_tank.level\n",
    "    yield gas_station.gas_tank.put(amount)\n",
    "\n",
    "\n",
    "def car(name, env, gas_station):\n",
    "    print(f'Car {name} arriving at {env.now}')\n",
    "    with gas_station.fuel_dispensers.request() as req:\n",
    "        yield req\n",
    "        print(f'Car {name} starts refueling at {env.now}')\n",
    "        yield gas_station.gas_tank.get(40)\n",
    "        yield env.timeout(5)\n",
    "        print(f'Car {name} done refueling at {env.now}')\n",
    "\n",
    "\n",
    "def car_generator(env, gas_station):\n",
    "    for i in range(4):\n",
    "        env.process(car(i, env, gas_station))\n",
    "        yield env.timeout(5)\n",
    "\n",
    "\n",
    "env = simpy.Environment()\n",
    "gas_station = GasStation(env)\n",
    "car_gen = env.process(car_generator(env, gas_station))\n",
    "env.run(35)"
   ]
  },
  {
   "cell_type": "markdown",
   "id": "4a4ae8b0-ae0c-467a-9bc6-6d6217b250bb",
   "metadata": {},
   "source": [
    "Containers allow you to retrieve their current level as well as their capacity (see GasStation.monitor_tank() and tanker()). You can also access the list of waiting events via the put_queue and get_queue attributes (similar to Resource.queue)."
   ]
  },
  {
   "cell_type": "markdown",
   "id": "4ed2833d-9b62-4e48-96ed-1bc071a12d81",
   "metadata": {},
   "source": [
    "## Stores\n",
    "Using Stores you can model the production and consumption of concrete objects (in contrast to the rather abstract “amount” stored in containers). A single Store can even contain multiple types of objects.\n",
    "\n",
    "Beside Store, there is a FilterStore that lets you use a custom function to filter the objects you get out of the store and PriorityStore where items come out of the store in priority order.\n",
    "\n",
    "Here is a simple example modelling a generic producer/consumer scenario:"
   ]
  },
  {
   "cell_type": "code",
   "execution_count": null,
   "id": "44e2a7ab-6404-4775-b656-c13cd92e57e7",
   "metadata": {},
   "outputs": [],
   "source": [
    "def producer(env, store):\n",
    "    print(f'producer start at {env.now}') \n",
    "    for i in range(100):\n",
    "        yield env.timeout(2)\n",
    "        yield store.put(f'spam {i}')\n",
    "        print(f'Produced spam at', env.now)\n",
    "\n",
    "\n",
    "def consumer(name, env, store):\n",
    "    while True:\n",
    "        print(f'{name} enter at {env.now}')\n",
    "        yield env.timeout(1)\n",
    "        print(name, 'requesting spam at', env.now)\n",
    "        item = yield store.get()\n",
    "        print(name, 'got', item, 'at', env.now)\n",
    "\n",
    "\n",
    "env = simpy.Environment()\n",
    "store = simpy.Store(env, capacity=2)\n",
    "\n",
    "prod = env.process(producer(env, store))\n",
    "consumers = [env.process(consumer(i, env, store)) for i in range(2)]\n",
    "\n",
    "env.run(until=5)"
   ]
  },
  {
   "cell_type": "markdown",
   "id": "36907727-d9fb-4569-b001-0f20fdcb2f0a",
   "metadata": {},
   "source": [
    "As with the other resource types, you can get a store’s capacity via the capacity attribute. The attribute items points to the list of items currently available in the store. The put and get queues can be accessed via the put_queue and get_queue attributes.\n",
    "\n",
    "FilterStore can, for example, be used to model machine shops where machines have varying attributes. This can be useful if the homogeneous slots of a Resource are not what you need:"
   ]
  },
  {
   "cell_type": "code",
   "execution_count": null,
   "id": "c6511fad-7939-4ed6-b5bb-8767e1b18a88",
   "metadata": {},
   "outputs": [],
   "source": [
    "from collections import namedtuple\n",
    "\n",
    "Machine = namedtuple('Machine', 'size, duration')\n",
    "m1 = Machine(1, 2)  # Small and slow\n",
    "m2 = Machine(2, 1)  # Big and fast\n",
    "\n",
    "env = simpy.Environment()\n",
    "machine_shop = simpy.FilterStore(env, capacity=2)\n",
    "machine_shop.items = [m1, m2]  # Pre-populate the machine shop\n",
    "\n",
    "def user(name, env, ms, size):\n",
    "    machine = yield ms.get(lambda machine: machine.size == size)\n",
    "    print(name, 'got', machine, 'at', env.now)\n",
    "    yield env.timeout(machine.duration)\n",
    "    yield ms.put(machine)\n",
    "    print(name, 'released', machine, 'at', env.now)\n",
    "\n",
    "\n",
    "users = [env.process(user(i, env, machine_shop, (i % 2) + 1))\n",
    "         for i in range(3)]\n",
    "env.run()"
   ]
  },
  {
   "cell_type": "markdown",
   "id": "c925248b-78e7-4e4a-8819-fbad06d80de2",
   "metadata": {},
   "source": [
    "With a PriorityStore, we can model items of differing priorities. In the following example, an inspector process finds and logs issues that a separate maintainer process repairs in priority order."
   ]
  },
  {
   "cell_type": "code",
   "execution_count": null,
   "id": "035a4510-fcbc-4e65-9389-01d71ca0cbb9",
   "metadata": {},
   "outputs": [],
   "source": [
    "env = simpy.Environment()\n",
    "issues = simpy.PriorityStore(env)\n",
    "\n",
    "def inspector(env, issues):\n",
    "    for issue in [simpy.PriorityItem('P2', '#0000'),\n",
    "                  simpy.PriorityItem('P0', '#0001'),\n",
    "                  simpy.PriorityItem('P3', '#0002'),\n",
    "                  simpy.PriorityItem('P1', '#0003')]:   #priority = 'P0', 'P1', ...\n",
    "        #print(issue, \"at\", env.now)\n",
    "        yield env.timeout(1)\n",
    "        print(env.now, 'log', issue)\n",
    "        yield issues.put(issue)\n",
    "\n",
    "def maintainer(env, issues):\n",
    "\n",
    "    while True:\n",
    "        yield env.timeout(3)\n",
    "        issue = yield issues.get()\n",
    "        print(env.now, 'repair', issue)\n",
    "\n",
    "_ = env.process(inspector(env, issues))\n",
    "_ = env.process(maintainer(env, issues))\n",
    "env.run()"
   ]
  },
  {
   "cell_type": "code",
   "execution_count": null,
   "id": "f3bdd880-e459-4c30-a38d-2225e7ac2aa2",
   "metadata": {},
   "outputs": [],
   "source": []
  }
 ],
 "metadata": {
  "kernelspec": {
   "display_name": "Python [conda env:base] *",
   "language": "python",
   "name": "conda-base-py"
  },
  "language_info": {
   "codemirror_mode": {
    "name": "ipython",
    "version": 3
   },
   "file_extension": ".py",
   "mimetype": "text/x-python",
   "name": "python",
   "nbconvert_exporter": "python",
   "pygments_lexer": "ipython3",
   "version": "3.11.7"
  }
 },
 "nbformat": 4,
 "nbformat_minor": 5
}
