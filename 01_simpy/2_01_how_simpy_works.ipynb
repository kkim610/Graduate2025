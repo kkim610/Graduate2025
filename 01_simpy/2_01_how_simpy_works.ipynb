{
 "cells": [
  {
   "cell_type": "markdown",
   "id": "057a22c9-925a-4314-9ee9-4e1a34c1ca53",
   "metadata": {},
   "source": [
    "## SimPy basics\r\n",
    "This guide describes the basic concepts of SimPy: How does it work? What are processes, events and the environment? What can I do with them?"
   ]
  },
  {
   "cell_type": "markdown",
   "id": "0c457b00-6d80-4a2d-9796-7806fb47dd90",
   "metadata": {},
   "source": [
    "## How SimPy works\r\n",
    "If you break SimPy down, it is just an asynchronous event dispatcher. You generate events and schedule them at a given simulation time. Events are sorted by priority, simulation time, and an increasing event id. An event also has a list of callbacks, which are executed when the event is triggered and processed by the event loop. Events may also have a return value.\r\n",
    "\r\n",
    "The components involved in this are the Environment, events and the process functions that you write.\r\n",
    "\r\n",
    "Process functions implement your simulation model, that is, they define the behavior of your simulation. They are plain Python generator functions that yield instances of Event.\r\n",
    "\r\n",
    "The environment stores these events in its event list and keeps track of the current simulation time.\r\n",
    "\r\n",
    "If a process function yields an event, SimPy adds the process to the event’s callbacks and suspends the process until the event is triggered and processed. When a process waiting for an event is resumed, it will also receive the event’s value.\r\n",
    "\r\n",
    "Here is a very simple example that illustrates all this; the code is more verbose than it needs to be to make things extra clear. You find a compact version of it at the end of this section:"
   ]
  },
  {
   "cell_type": "code",
   "execution_count": null,
   "id": "6a1aa827-93d3-47f2-910f-2d587415643c",
   "metadata": {},
   "outputs": [],
   "source": [
    "import simpy\n",
    "\n",
    "def example(env): #process function\n",
    "    event = simpy.events.Timeout(env, delay=1, value=42)\n",
    "    value = yield event\n",
    "    print('now=%d, value=%d' % (env.now, value))\n",
    "\n",
    "env = simpy.Environment()\n",
    "example_gen = example(env)\n",
    "p = simpy.events.Process(env, example_gen)\n",
    "\n",
    "env.run()"
   ]
  },
  {
   "cell_type": "markdown",
   "id": "c79c1c0b-789c-42ed-8f6e-f384f34b9b07",
   "metadata": {},
   "source": [
    "The example() process function above first creates a Timeout event. It passes the environment, a delay, and a value to it. The Timeout schedules itself at now + delay (that’s why the environment is required); other event types usually schedule themselves at the current simulation time.\r\n",
    "\r\n",
    "The process function then yields the event and thus gets suspended. It is resumed, when SimPy processes the Timeout event. The process function also receives the event’s value (42) – this is, however, optional, so yield event would have been okay if you were not interested in the value or if the event had no value at all.\r\n",
    "\r\n",
    "Finally, the process function prints the current simulation time (that is accessible via the environment’s now attribute) and the Timeout’s value.\r\n",
    "\r\n",
    "If all required process functions are defined, you can instantiate all objects for your simulation. In most cases, you start by creating an instance of Environment, because you’ll need to pass it around a lot when creating everything else.\r\n",
    "\r\n",
    "Starting a process function involves two things:\r\n",
    "\r\n",
    "You have to call the process function to create a generator object. (This will not execute any code of that function yet. Please read The Python yield keyword explained, to understand why this is the case.)\r\n",
    "\r\n",
    "You then create an instance of Process and pass the environment and the generator object to it. This will schedule an Initialize event at the current simulation time which starts the execution of the process function. The process instance is also an event that is triggered when the process function returns. The guide to events explains why this is handy.\r\n",
    "\r\n",
    "Finally, you can start SimPy’s event loop. By default, it will run as long as there are events in the event list, but you can also let it stop earlier by providing an until argument (see Simulation control).\r\n",
    "\r\n",
    "The following guides describe the environment and its interactions with events and process functions in more detail."
   ]
  },
  {
   "cell_type": "markdown",
   "id": "756c4ccb-dee9-4002-bda2-c4411f228728",
   "metadata": {},
   "source": [
    "## “Best practice” version of the example above"
   ]
  },
  {
   "cell_type": "code",
   "execution_count": null,
   "id": "a7a5605d-06ff-4c23-a9c1-f059c420e2e4",
   "metadata": {},
   "outputs": [],
   "source": [
    "import simpy\n",
    "\n",
    "def example(env):\n",
    "    value = yield env.timeout(1, value=42)\n",
    "    print('now=%d, value=%d' % (env.now, value))\n",
    "\n",
    "env = simpy.Environment()\n",
    "p = env.process(example(env))\n",
    "env.run()"
   ]
  },
  {
   "cell_type": "code",
   "execution_count": null,
   "id": "b2bf09f5-e836-496e-a6e3-4958b11eb5fd",
   "metadata": {},
   "outputs": [],
   "source": [
    "import simpy\n",
    "\n",
    "def example(env):\n",
    "    value = yield env.timeout(1, value=42)\n",
    "    print('now=%d, value=%d' % (env.now, value))\n",
    "\n",
    "env = simpy.Environment()\n",
    "env.process(example(env))\n",
    "\n",
    "env.run()"
   ]
  },
  {
   "cell_type": "code",
   "execution_count": null,
   "id": "57100e52-0d24-491c-bb3b-bed2de4fa4dd",
   "metadata": {},
   "outputs": [],
   "source": []
  }
 ],
 "metadata": {
  "kernelspec": {
   "display_name": "Python [conda env:base] *",
   "language": "python",
   "name": "conda-base-py"
  },
  "language_info": {
   "codemirror_mode": {
    "name": "ipython",
    "version": 3
   },
   "file_extension": ".py",
   "mimetype": "text/x-python",
   "name": "python",
   "nbconvert_exporter": "python",
   "pygments_lexer": "ipython3",
   "version": "3.11.7"
  }
 },
 "nbformat": 4,
 "nbformat_minor": 5
}
