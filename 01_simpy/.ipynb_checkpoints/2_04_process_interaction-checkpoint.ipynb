{
 "cells": [
  {
   "cell_type": "markdown",
   "id": "c9ffd529-5863-4440-9c61-ffd24a695f99",
   "metadata": {},
   "source": [
    "## Process Interaction\n",
    "Discrete event simulation is only made interesting by interactions between processes.\n",
    "\n",
    "So this guide is about:\n",
    "\n",
    "- Sleep until woken up (passivate/reactivate)\n",
    "\n",
    "- Waiting for another process to terminate\n",
    "\n",
    "- Interrupting another process\n",
    "\n",
    "The first two items were already covered in the Events guide, but we’ll also include them here for the sake of completeness.\n",
    "\n",
    "Another possibility for processes to interact are resources. They are discussed in a separate guide."
   ]
  },
  {
   "cell_type": "markdown",
   "id": "28db2edb-1ce6-4785-b576-459d88bbb5dd",
   "metadata": {},
   "source": [
    "## Sleep until woken up\n",
    "Imagine you want to model an electric vehicle with an intelligent battery-charging controller. While the vehicle is driving, the controller can be passive but needs to be reactivate once the vehicle is connected to the power grid in order to charge the battery.\n",
    "\n",
    "In SimPy 2, this pattern was known as passivate / reactivate. In SimPy 3, you can accomplish that with a simple, shared Event:"
   ]
  },
  {
   "cell_type": "code",
   "execution_count": null,
   "id": "e0fc9fc9-9581-48c0-85d1-95b2f4a92e29",
   "metadata": {},
   "outputs": [],
   "source": [
    "from random import seed, randint\n",
    "seed(23)\n",
    "\n",
    "import simpy\n",
    "\n",
    "class EV:\n",
    "    def __init__(self, env):\n",
    "        self.env = env\n",
    "        self.drive_proc = env.process(self.drive(env))\n",
    "        print(\"AAA\")\n",
    "        self.bat_ctrl_proc = env.process(self.bat_ctrl(env))\n",
    "        print(\"BBB\")\n",
    "        self.bat_ctrl_reactivate = env.event()\n",
    "        print(\"CCC\")\n",
    "\n",
    "    def drive(self, env):\n",
    "        print(\"DDD\")\n",
    "        while True:\n",
    "            # Drive for 20-40 min\n",
    "            print(\"EEE\")\n",
    "            yield env.timeout(randint(20, 40))\n",
    "\n",
    "            # Park for 1–6 hours\n",
    "            print('Start parking at', env.now)\n",
    "            self.bat_ctrl_reactivate.succeed()  # \"reactivate\"\n",
    "            print(\"FFF\")\n",
    "            self.bat_ctrl_reactivate = env.event()\n",
    "            print(\"GGG\")\n",
    "            yield env.timeout(randint(60, 360))\n",
    "            print('Stop parking at', env.now)\n",
    "\n",
    "    def bat_ctrl(self, env):\n",
    "        print(\"HHH\")\n",
    "        while True:\n",
    "            print('Bat. ctrl. passivating at', env.now)\n",
    "            yield self.bat_ctrl_reactivate  # \"passivate\"\n",
    "            print('Bat. ctrl. reactivated at', env.now)\n",
    "\n",
    "            # Intelligent charging behavior here …\n",
    "            yield env.timeout(randint(30, 90))\n",
    "\n",
    "env = simpy.Environment()\n",
    "print(\"111\")\n",
    "ev = EV(env)\n",
    "print(\"222\")\n",
    "env.run(until=150)"
   ]
  },
  {
   "cell_type": "markdown",
   "id": "e61cc93a-322d-4746-bd4f-70bfb53d98e7",
   "metadata": {},
   "source": [
    "Since bat_ctrl() just waits for a normal event, we no longer call this pattern passivate / reactivate in SimPy 3."
   ]
  },
  {
   "cell_type": "markdown",
   "id": "491f6033-8bd2-46af-bd51-b4082fe24daa",
   "metadata": {},
   "source": [
    "## Waiting for another process to terminate\n",
    "The example above has a problem: it may happen that the vehicle wants to park for a shorter duration than it takes to charge the battery, since the minimum park time of 60 minutes is less than the maximum charge time of 90 minutes.\n",
    "\n",
    "To fix this problem we have to slightly change our model. A new bat_ctrl() will be started every time the EV starts parking. The EV then waits until the parking duration is over and until the charging has stopped:"
   ]
  },
  {
   "cell_type": "code",
   "execution_count": null,
   "id": "bcd654c7-ffa9-4ce8-9aad-421c2a669c3b",
   "metadata": {},
   "outputs": [],
   "source": [
    "class EV:\n",
    "    def __init__(self, env):\n",
    "        self.env = env\n",
    "        self.drive_proc = env.process(self.drive(env))\n",
    "\n",
    "    def drive(self, env):\n",
    "        while True:\n",
    "            # Drive for 20-40 min\n",
    "            yield env.timeout(randint(20, 40))\n",
    "\n",
    "            # Park for 1–6 hours\n",
    "            print('Start parking at', env.now)\n",
    "            charging = env.process(self.bat_ctrl(env))\n",
    "            parking = env.timeout(randint(60, 360))\n",
    "            yield charging & parking\n",
    "            print('Stop parking at', env.now)\n",
    "\n",
    "    def bat_ctrl(self, env):\n",
    "        print('Bat. ctrl. started at', env.now)\n",
    "        # Intelligent charging behavior here …\n",
    "        yield env.timeout(randint(30, 90))\n",
    "        print('Bat. ctrl. done at', env.now)\n",
    "\n",
    "env = simpy.Environment()\n",
    "ev = EV(env)\n",
    "env.run(until=310)"
   ]
  },
  {
   "cell_type": "markdown",
   "id": "e5d72c37-39df-4ce9-a7f4-11e38f9bf33f",
   "metadata": {},
   "source": [
    "Again, nothing new (if you’ve read the Events guide) and special is happening. SimPy processes are events, too, so you can yield them and will thus wait for them to get triggered. You can also wait for two events at the same time by concatenating them with & (see Waiting for multiple events at once)."
   ]
  },
  {
   "cell_type": "markdown",
   "id": "5137de6f-cc04-4c06-8247-1c924512b761",
   "metadata": {},
   "source": [
    "## Interrupting another process\n",
    "As usual, we now have another problem: Imagine, a trip is very urgent, but with the current implementation, we always need to wait until the battery is fully charged. If we could somehow interrupt that …\n",
    "\n",
    "Fortunate coincidence, there is indeed a way to do exactly this. You can call interrupt() on a Process. This will throw an Interrupt exception into that process, resuming it immediately:"
   ]
  },
  {
   "cell_type": "code",
   "execution_count": null,
   "id": "87c29203-8be0-4c0b-be62-5e65cc823705",
   "metadata": {},
   "outputs": [],
   "source": [
    "class EV:\n",
    "    def __init__(self, env):\n",
    "        self.env = env\n",
    "        self.drive_proc = env.process(self.drive(env))\n",
    "\n",
    "    def drive(self, env):\n",
    "        while True:\n",
    "            # Drive for 20-40 min\n",
    "            yield env.timeout(randint(20, 40))\n",
    "\n",
    "            # Park for 1 hour\n",
    "            print('Start parking at', env.now)\n",
    "            charging = env.process(self.bat_ctrl(env))\n",
    "            parking = env.timeout(60)\n",
    "            yield charging | parking\n",
    "            if not charging.triggered:\n",
    "                # Interrupt charging if not already done.\n",
    "                charging.interrupt('Need to go!')\n",
    "            print('Stop parking at', env.now)\n",
    "\n",
    "    def bat_ctrl(self, env):\n",
    "        print('Bat. ctrl. started at', env.now)\n",
    "        try:\n",
    "            yield env.timeout(randint(60, 90))\n",
    "            print('Bat. ctrl. done at', env.now)\n",
    "        except simpy.Interrupt as i:\n",
    "            # Onoes! Got interrupted before the charging was done.\n",
    "            print('Bat. ctrl. interrupted at', env.now, 'msg:',\n",
    "                  i.cause)\n",
    "\n",
    "env = simpy.Environment()\n",
    "ev = EV(env)\n",
    "env.run(until=100)"
   ]
  },
  {
   "cell_type": "markdown",
   "id": "57146a27-667a-4741-840f-a3a5ae995c64",
   "metadata": {},
   "source": [
    "What process.interrupt() actually does is scheduling an Interruption event for immediate execution. If this event is executed it will remove the victim process’ _resume() method from the callbacks of the event that it is currently waiting for (see target). Following that it will throw the Interrupt exception into the process.\n",
    "\n",
    "Since we don’t do anything special to the original target event of the process, the interrupted process can yield the same event again after catching the Interrupt – Imagine someone waiting for a shop to open. The person may get interrupted by a phone call. After finishing the call, he or she checks if the shop already opened and either enters or continues to wait."
   ]
  },
  {
   "cell_type": "code",
   "execution_count": null,
   "id": "7f7ed6c9-3fba-4f2f-ba48-682f51c112c2",
   "metadata": {},
   "outputs": [],
   "source": []
  }
 ],
 "metadata": {
  "kernelspec": {
   "display_name": "Python [conda env:base] *",
   "language": "python",
   "name": "conda-base-py"
  },
  "language_info": {
   "codemirror_mode": {
    "name": "ipython",
    "version": 3
   },
   "file_extension": ".py",
   "mimetype": "text/x-python",
   "name": "python",
   "nbconvert_exporter": "python",
   "pygments_lexer": "ipython3",
   "version": "3.11.7"
  }
 },
 "nbformat": 4,
 "nbformat_minor": 5
}
