{
 "cells": [
  {
   "cell_type": "markdown",
   "id": "28e3d46d-a3fd-4dd8-91bc-39c09fc43145",
   "metadata": {},
   "source": [
    "# Time and Scheduling\n",
    "The aim of this section is to give you a deeper understanding of how time passes in SimPy and how it schedules and processes events."
   ]
  },
  {
   "cell_type": "markdown",
   "id": "3cefe8e3-5c34-4803-b9f6-50c9f9e30120",
   "metadata": {},
   "source": [
    "## What is time?\n",
    "Time itself is not easy to grasp. The wikipedians describe it this way:\n",
    "\n",
    "«Time is the indefinite continued progress of existence and events that occur in apparently irreversible succession from the past through the present to the future. Time is a component quantity of various measurements used to sequence events, to compare the duration of events or the intervals between them, and to quantify rates of change of quantities in material reality or in the conscious experience. Time is often referred to as the fourth dimension, along with the three spatial dimensions.»"
   ]
  },
  {
   "cell_type": "markdown",
   "id": "3d01b040-9f51-49c0-9c1b-5b5d33846c8b",
   "metadata": {},
   "source": [
    "## What’s the problem with it?\r\n",
    "Often, events (in the real world) appear to happen “at the same time”, when they are in fact happening at slightly different times. Here is an obvious example: Alice and Bob have birthday on the same day. If your time scale is in days, both birthday events happen at the same time. If you increase the resolution of you clock, e.g. to minutes, you may realise that Alice was actually born at 0:42 in the morning and Bob at 11:14 and that there’s quite a difference between the time of both events.\r\n",
    "\r\n",
    "Doing simulation on computers suffers from similar problems. Integers (and floats, too) are discrete numbers with a lot of void in between them. Thus, events that would occur after each other in the real world (e.g., at t1 = 0.1 and t2 = 0.2) might occur at the “same” time if mapped to an integer scale (e.g., at t = 0).\r\n",
    "\r\n",
    "On the other hand, SimPy is (like most simulation frameworks) a single-threaded, deterministic library. It processes events sequentially – one after another. If two events are scheduled at the same time, the one that is scheduled first will also be the processed first (FIFO).\r\n",
    "\r\n",
    "That is very important for you to understand. The processes in your modeled/simulated world may run “in parallel”, but when the simulation runs on your CPU, all events are processed sequentially and deterministically. If you run your simulation multiple times (and if you don’t use random ;-)), you will always get the same r the same time."
   ]
  },
  {
   "cell_type": "markdown",
   "id": "e958c88b-da44-4ec6-aaaf-c9a6c34a53ea",
   "metadata": {},
   "source": [
    "So keep this in mind:\n",
    "\n",
    "- In the real world, there’s usually no at the same time.\n",
    "\n",
    "- Discretization of the time scale can make events appear to be at the same time.\n",
    "\n",
    "- SimPy processes events one after another, even if they have the same time."
   ]
  },
  {
   "cell_type": "markdown",
   "id": "ef37eb59-fd2d-46f6-bc6e-b2c9fd1067da",
   "metadata": {},
   "source": [
    "## SimPy Events and time\n",
    "Before we continue, let’s recap the states an event can be in (see Events for details):\n",
    "\n",
    "- untriggered: not known to the event queue\n",
    "\n",
    "- triggered: scheduled at a time t and inserted into the event queue\n",
    "\n",
    "- processed: removed from the event queue\n",
    "\n",
    "SimPy’s event queue is implemented as a heap queue: “Heaps are binary trees for which every parent node has a value less than or equal to any of its children.” So if we insert events as tuples (t, event) (with t being the scheduled time) into it, the first element in the queue will by definition always be the one with the smallest t and the next one to be processed.\n",
    "\n",
    "However, storing (t, event) tuples will not work if two events are scheduled at the same time because events are not comparable. To fix this, we also store a strictly increasing event ID with them: (t, eid, event). That way, if two events get scheduled for the same time, the one scheduled first will always be processed first."
   ]
  },
  {
   "cell_type": "code",
   "execution_count": null,
   "id": "22b416a3-f2a9-4c7c-bd6a-5c7218e45275",
   "metadata": {},
   "outputs": [],
   "source": []
  }
 ],
 "metadata": {
  "kernelspec": {
   "display_name": "Python [conda env:base] *",
   "language": "python",
   "name": "conda-base-py"
  },
  "language_info": {
   "codemirror_mode": {
    "name": "ipython",
    "version": 3
   },
   "file_extension": ".py",
   "mimetype": "text/x-python",
   "name": "python",
   "nbconvert_exporter": "python",
   "pygments_lexer": "ipython3",
   "version": "3.11.7"
  }
 },
 "nbformat": 4,
 "nbformat_minor": 5
}
