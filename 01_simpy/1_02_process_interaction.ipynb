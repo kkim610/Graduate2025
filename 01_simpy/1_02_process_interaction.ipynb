{
 "cells": [
  {
   "cell_type": "markdown",
   "id": "869df416-8445-4daa-b64e-339066faad41",
   "metadata": {},
   "source": [
    "## Process Interaction\r\n",
    "The Process instance that is returned by Environment.process () can be utilized for process interactions. The two most common examples for this are to wait for another process to finish and to interrupt another process while it is waiting for an event."
   ]
  },
  {
   "cell_type": "markdown",
   "id": "335f7133-83ac-4ee8-a010-4d5e633c7da3",
   "metadata": {},
   "source": [
    "## Waiting for a Process\n",
    "As it happens, a SimPy Process can be used like an event (technically, a process actually is an event). If you yield it, you are resumed once the process has finished. Imagine a car-wash simulation where cars enter the car-wash and wait for the washing process to finish. Or an airport simulation where passengers have to wait until a security check finishes.\n",
    "\n",
    "Lets assume that the car from our last example magically became an electric vehicle. Electric vehicles usually take a lot of time charging their batteries after a trip. They have to wait until their battery is charged before they can start driving again.\n",
    "\n",
    "We can model this with an additional charge() process for our car. Therefore, we refactor our car to be a class with two process methods: run() (which is the original car() process function) and charge().\n",
    "\n",
    "The run process is automatically started when Car is instantiated. A new charge process is started every time the vehicle starts parking. By yielding the Process instance that Environment.process() returns, the run process starts waiting for it to finish:"
   ]
  },
  {
   "cell_type": "code",
   "execution_count": 1,
   "id": "f0fa1427-a573-4494-8711-ef5a1d5e7b2f",
   "metadata": {},
   "outputs": [],
   "source": [
    "class Car(object):\n",
    "    def __init__(self, env):\n",
    "        self.env = env\n",
    "        # Start the run process everytime an instance is created.\n",
    "        self.action = env.process(self.run())\n",
    "\n",
    "    def run(self):\n",
    "        while True:\n",
    "            print('Start parking and charging at %d' % self.env.now)\n",
    "            charge_duration = 5\n",
    "            # We yield the process that process() returns\n",
    "            # to wait for it to finish\n",
    "            yield self.env.process(self.charge(charge_duration))\n",
    "\n",
    "            # The charge process has finished and\n",
    "            # we can start driving again.\n",
    "            print('Start driving at %d' % self.env.now)\n",
    "            trip_duration = 2\n",
    "            yield self.env.timeout(trip_duration)\n",
    "\n",
    "    def charge(self, duration):\n",
    "        yield self.env.timeout(duration)"
   ]
  },
  {
   "cell_type": "markdown",
   "id": "0b39a0de-f755-4976-97e2-22f41c631383",
   "metadata": {},
   "source": [
    "Starting the simulation is straightforward again: We create an environment, one (or more) cars and finally call run()."
   ]
  },
  {
   "cell_type": "code",
   "execution_count": 2,
   "id": "6dc9021f-6cae-449b-8533-fe3cde46cb47",
   "metadata": {},
   "outputs": [
    {
     "name": "stdout",
     "output_type": "stream",
     "text": [
      "Start parking and charging at 0\n",
      "Start driving at 5\n",
      "Start parking and charging at 7\n",
      "Start driving at 12\n",
      "Start parking and charging at 14\n"
     ]
    }
   ],
   "source": [
    "import simpy\n",
    "env = simpy.Environment()\n",
    "car = Car(env)\n",
    "env.run(until=15)"
   ]
  },
  {
   "cell_type": "markdown",
   "id": "9867ac04-e4d5-4c46-a896-3dec9e92b634",
   "metadata": {},
   "source": [
    "## Interrupting Another Process\r\n",
    "Imagine, you don’t want to wait until your electric vehicle is fully charged but want to interrupt the charging process and just start driving instead.\r\n",
    "\r\n",
    "SimPy allows you to interrupt a running process by calling its interrupt() method:"
   ]
  },
  {
   "cell_type": "code",
   "execution_count": 3,
   "id": "8ddfebda-bff1-4bdd-8f7f-97cfd5b129bc",
   "metadata": {},
   "outputs": [],
   "source": [
    "def driver(env, car):\n",
    "    yield env.timeout(3)\n",
    "    car.action.interrupt()"
   ]
  },
  {
   "cell_type": "markdown",
   "id": "0c1ce411-b52f-45ce-88c7-5154f25e918c",
   "metadata": {},
   "source": [
    "The driver process has a reference to the car’s action process. After waiting for 3 time steps, it interrupts that process.\r\n",
    "\r\n",
    "Interrupts are thrown into process functions as Interrupt exceptions that can (should) be handled by the interrupted process. The process can then decide what to do next (e.g., continuing to wait for the original event or yielding a new event):"
   ]
  },
  {
   "cell_type": "code",
   "execution_count": 4,
   "id": "3918cda1-b2ac-4f22-8621-dfc722b31924",
   "metadata": {},
   "outputs": [],
   "source": [
    "class Car(object):\n",
    "    def __init__(self, env):\n",
    "        self.env = env\n",
    "        self.action = env.process(self.run())\n",
    "\n",
    "    def run(self):\n",
    "        while True:\n",
    "            print('Start parking and charging at %d' % self.env.now)\n",
    "            charge_duration = 5\n",
    "            # We may get interrupted while charging the battery\n",
    "            try:\n",
    "                yield self.env.process(self.charge(charge_duration))\n",
    "            except simpy.Interrupt:\n",
    "                # When we received an interrupt, we stop charging and\n",
    "                # switch to the \"driving\" state\n",
    "                print('Was interrupted. Hope, the battery is full enough ...')\n",
    "\n",
    "            print('Start driving at %d' % self.env.now)\n",
    "            trip_duration = 2\n",
    "            yield self.env.timeout(trip_duration)\n",
    "\n",
    "    def charge(self, duration):\n",
    "        yield self.env.timeout(duration)"
   ]
  },
  {
   "cell_type": "markdown",
   "id": "7cdb76d1-6313-44f9-844c-570dae07e83e",
   "metadata": {},
   "source": [
    "When you compare the output of this simulation with the previous example, you’ll notice that the car now starts driving at time 3 instead of 5:"
   ]
  },
  {
   "cell_type": "code",
   "execution_count": 5,
   "id": "aba192a3-f727-4454-96d4-5a3fc85f6317",
   "metadata": {},
   "outputs": [
    {
     "name": "stdout",
     "output_type": "stream",
     "text": [
      "Start parking and charging at 0\n",
      "Was interrupted. Hope, the battery is full enough ...\n",
      "Start driving at 3\n",
      "Start parking and charging at 5\n",
      "Start driving at 10\n",
      "Start parking and charging at 12\n"
     ]
    }
   ],
   "source": [
    "env = simpy.Environment()\n",
    "car = Car(env)\n",
    "env.process(driver(env, car))\n",
    "env.run(until=15)"
   ]
  },
  {
   "cell_type": "code",
   "execution_count": null,
   "id": "56192836-090b-4db0-bb0b-20b904562443",
   "metadata": {},
   "outputs": [],
   "source": []
  }
 ],
 "metadata": {
  "kernelspec": {
   "display_name": "Python [conda env:base] *",
   "language": "python",
   "name": "conda-base-py"
  },
  "language_info": {
   "codemirror_mode": {
    "name": "ipython",
    "version": 3
   },
   "file_extension": ".py",
   "mimetype": "text/x-python",
   "name": "python",
   "nbconvert_exporter": "python",
   "pygments_lexer": "ipython3",
   "version": "3.11.7"
  }
 },
 "nbformat": 4,
 "nbformat_minor": 5
}
