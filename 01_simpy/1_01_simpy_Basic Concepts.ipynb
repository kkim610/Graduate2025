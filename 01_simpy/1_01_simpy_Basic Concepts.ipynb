{
 "cells": [
  {
   "cell_type": "markdown",
   "id": "71ea8b13-4c19-4f5c-b682-273241628fab",
   "metadata": {
    "jp-MarkdownHeadingCollapsed": true
   },
   "source": [
    "## Basic Concepts\r\n",
    "SimPy is a discrete-event simulation library. The behavior of active components (like vehicles, customers or messages) is modeled with processes. All processes live in an environment. They interact with the environment and with each other via events.\r\n",
    "\r\n",
    "Processes are described by simple Python generators. You can call them process function or process method, depending on whether it is a normal function or method of a class. During their lifetime, they create events and yield them in order to wait for them to occur.\r\n",
    "\r\n",
    "When a process yields an event, the process gets suspended. SimPy resumes the process, when the event occurs (we say that the event is processed). Multiple processes can wait for the same event. SimPy resumes them in the same order in which they yielded thant.\n",
    "\n",
    "t eveAn important event type is the Timeout. Events of this type occur (are processed) after a certain amount of (simulated) time has passed. They allow a process to sleep (or hold its state) for the given time. A Timeout and all other events can be created by calling the appropriate method of the Environment that the process lives in (Environment.timeout() for example).\n",
    "\n",
    "let’s start:"
   ]
  },
  {
   "cell_type": "markdown",
   "id": "3ad31ccd-ed87-49c5-9752-51e180bb423a",
   "metadata": {},
   "source": [
    "## Our First Process\n",
    "\n",
    "Our first example will be a car process. The car will alternately drive and park for a while. When it starts driving (or parking), it will print the current simulation time.\n",
    "\n",
    "So let’s start:"
   ]
  },
  {
   "cell_type": "code",
   "execution_count": 1,
   "id": "c3bfc37f-a0eb-4871-8970-888fe1f97ea3",
   "metadata": {},
   "outputs": [],
   "source": [
    "def car(env):\n",
    "    while True:\n",
    "        print('Start parking at %d' % env.now)\n",
    "        parking_duration = 5\n",
    "        yield env.timeout(parking_duration)\n",
    "\n",
    "        print('Start driving at %d' % env.now)\n",
    "        trip_duration = 2\n",
    "        yield env.timeout(trip_duration)"
   ]
  },
  {
   "cell_type": "markdown",
   "id": "0a527dea-7a7d-409a-89b8-f4e654af2e28",
   "metadata": {},
   "source": [
    "Our car process requires a reference to an Environment (env) in order to create new events. The car’s behavior is described in an infinite loop. Remember, this function is a generator. Though it will never terminate, it will pass the control flow back to the simulation once a yield statement is reached. Once the yielded event is processed (“it occurs”), the simulation will resume the function at this statement.\r\n",
    "\r\n",
    "As I said before, our car switches between the states parking and driving. It announces its new state by printing a message and the current simulation time (as returned by the Environment.now property). It then calls the Environment.timeout() factory function to create a Timeout event. This event describes the point in time the car is done parking (or driving, respectively). By yielding the event, it signals the simulation that it wants to wait for the event to occur.\r\n",
    "\r\n",
    "Now that the behavior of our car has been modeled, lets create an instance of it and see how it behaves:"
   ]
  },
  {
   "cell_type": "code",
   "execution_count": 2,
   "id": "e97c07db-8ef3-4948-be56-6fff0b499c94",
   "metadata": {},
   "outputs": [
    {
     "name": "stdout",
     "output_type": "stream",
     "text": [
      "Start parking at 0\n",
      "Start driving at 5\n",
      "Start parking at 7\n",
      "Start driving at 12\n",
      "Start parking at 14\n"
     ]
    }
   ],
   "source": [
    "import simpy\n",
    "env = simpy.Environment()\n",
    "env.process(car(env))\n",
    "env.run(until=15)"
   ]
  },
  {
   "cell_type": "markdown",
   "id": "74ba9961-1a13-445e-8757-1abc3cfba7ac",
   "metadata": {},
   "source": [
    "The first thing we need to do is to create an instance of Environment. This instance is passed into our car process function. Calling it creates a process generator that needs to be started and added to the environment via Environment.process().\r\n",
    "\r\n",
    "Note, that at this time, none of the code of our process function is being executed. Its execution is merely scheduled at the current simulation time.\r\n",
    "\r\n",
    "The Process returned by process() can be used for process interactions (we will cover that in the next section, so we will ignore it for now).\r\n",
    "\r\n",
    "Finally, we start the simulation by calling run() and passing an end time to it."
   ]
  },
  {
   "cell_type": "code",
   "execution_count": null,
   "id": "344c381a-d952-4691-92d3-636a0354d244",
   "metadata": {},
   "outputs": [],
   "source": []
  }
 ],
 "metadata": {
  "kernelspec": {
   "display_name": "Python [conda env:base] *",
   "language": "python",
   "name": "conda-base-py"
  },
  "language_info": {
   "codemirror_mode": {
    "name": "ipython",
    "version": 3
   },
   "file_extension": ".py",
   "mimetype": "text/x-python",
   "name": "python",
   "nbconvert_exporter": "python",
   "pygments_lexer": "ipython3",
   "version": "3.11.7"
  }
 },
 "nbformat": 4,
 "nbformat_minor": 5
}
