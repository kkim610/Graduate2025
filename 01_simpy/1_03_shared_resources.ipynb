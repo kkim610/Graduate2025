{
 "cells": [
  {
   "cell_type": "markdown",
   "id": "412fb8c8-ca73-4e48-8d14-477f5acb0bd8",
   "metadata": {},
   "source": [
    "## Shared Resources"
   ]
  },
  {
   "cell_type": "markdown",
   "id": "9190284a-a91a-49e7-bb63-1ec83144a463",
   "metadata": {},
   "source": [
    "SimPy offers three types of resources that help you modeling problems, where multiple processes want to use a resource of limited capacity (e.g., cars at a fuel station with a limited number of fuel pumps) or classical producer-consumer problems.\r\n",
    "\r\n",
    "In this section, we’ll briefly introduce SimPy’s Resource class."
   ]
  },
  {
   "cell_type": "markdown",
   "id": "e75faea8-1ea3-43aa-80a2-a732efebf50c",
   "metadata": {},
   "source": [
    "## Basic Resource Usage"
   ]
  },
  {
   "cell_type": "markdown",
   "id": "68a1c3dc-b0bd-43a7-9f6a-b978b62d8662",
   "metadata": {},
   "source": [
    "We’ll slightly modify our electric vehicle process car that we introduced in the last sections."
   ]
  },
  {
   "cell_type": "markdown",
   "id": "8a7f9922-7360-4bcb-89b1-78c1d3370de9",
   "metadata": {},
   "source": [
    "The car will now drive to a battery charging station (BCS) and request one of its two charging spots. If both of these spots are currently in use, it waits until one of them becomes available again. It then starts charging its battery and leaves the station afterwards:"
   ]
  },
  {
   "cell_type": "code",
   "execution_count": 1,
   "id": "07dbe21e-0a46-4183-a353-857e0c462cbb",
   "metadata": {},
   "outputs": [],
   "source": [
    "def car(env, name, bcs, driving_time, charge_duration):\n",
    "    # Simulate driving to the BCS\n",
    "    yield env.timeout(driving_time)\n",
    "\n",
    "    # Request one of its charging spots\n",
    "    print('%s arriving at %d' % (name, env.now))\n",
    "    with bcs.request() as req:\n",
    "        yield req\n",
    "\n",
    "        # Charge the battery\n",
    "        print('%s starting to charge at %s' % (name, env.now))\n",
    "        yield env.timeout(charge_duration)\n",
    "        print('%s leaving the bcs at %s' % (name, env.now))"
   ]
  },
  {
   "cell_type": "markdown",
   "id": "dc99737c-30b7-43b8-b67e-b446bfc8581f",
   "metadata": {},
   "source": [
    "The resource’s request() method generates an event that lets you wait until the resource becomes available again. If you are resumed, you “own” the resource until you release it.\r\n",
    "\r\n",
    "If you use the resource with the with statement as shown above, the resource is automatically being released. If you call request() without with, you are responsible to call release() once you are done using the resource.\r\n",
    "\r\n",
    "When you release a resource, the next waiting process is resumed and now “owns” one of the resource’s slots. The basic Resource sorts waiting processes in a FIFO (first in—first out) way.\r\n",
    "\r\n",
    "A resource needs a reference to an Environment and a capacity when it is created:"
   ]
  },
  {
   "cell_type": "code",
   "execution_count": 2,
   "id": "81dd3ed4-cdbf-4a3c-b9ea-fe978f1b72e7",
   "metadata": {},
   "outputs": [],
   "source": [
    "import simpy\n",
    "env = simpy.Environment()\n",
    "bcs = simpy.Resource(env, capacity=2)"
   ]
  },
  {
   "cell_type": "markdown",
   "id": "d63afb3f-7439-4481-b0c7-2631fd27c202",
   "metadata": {},
   "source": [
    "We can now create the car processes and pass a reference to our resource as well as some additional parameters to them:"
   ]
  },
  {
   "cell_type": "code",
   "execution_count": 3,
   "id": "5b982900-7bc1-4c53-8c84-a7397e09a8e8",
   "metadata": {},
   "outputs": [],
   "source": [
    "for i in range(4):\n",
    "    env.process(car(env, 'Car %d' % i, bcs, i*2, 5))"
   ]
  },
  {
   "cell_type": "markdown",
   "id": "4507d6c1-898b-466a-a189-8d067e6eaa4a",
   "metadata": {},
   "source": [
    "Finally, we can start the simulation. Since the car processes all terminate on their own in this simulation, we don’t need to specify an until time—the simulation will automatically stop when there are no more events left:"
   ]
  },
  {
   "cell_type": "code",
   "execution_count": 4,
   "id": "c29ee5ee-29dc-42d2-97ea-474d18ecbabc",
   "metadata": {},
   "outputs": [
    {
     "name": "stdout",
     "output_type": "stream",
     "text": [
      "Car 0 arriving at 0\n",
      "Car 0 starting to charge at 0\n",
      "Car 1 arriving at 2\n",
      "Car 1 starting to charge at 2\n",
      "Car 2 arriving at 4\n",
      "Car 0 leaving the bcs at 5\n",
      "Car 2 starting to charge at 5\n",
      "Car 3 arriving at 6\n",
      "Car 1 leaving the bcs at 7\n",
      "Car 3 starting to charge at 7\n",
      "Car 2 leaving the bcs at 10\n",
      "Car 3 leaving the bcs at 12\n"
     ]
    }
   ],
   "source": [
    "env.run()"
   ]
  },
  {
   "cell_type": "markdown",
   "id": "cb4a3280-51c8-44c0-a3ed-ad020b5b9616",
   "metadata": {},
   "source": [
    "퀴즈: "
   ]
  },
  {
   "cell_type": "code",
   "execution_count": null,
   "id": "a8dbe8f6-6dcd-48ec-9624-33d5ee8fbf3b",
   "metadata": {},
   "outputs": [],
   "source": []
  }
 ],
 "metadata": {
  "kernelspec": {
   "display_name": "Python [conda env:base] *",
   "language": "python",
   "name": "conda-base-py"
  },
  "language_info": {
   "codemirror_mode": {
    "name": "ipython",
    "version": 3
   },
   "file_extension": ".py",
   "mimetype": "text/x-python",
   "name": "python",
   "nbconvert_exporter": "python",
   "pygments_lexer": "ipython3",
   "version": "3.11.7"
  }
 },
 "nbformat": 4,
 "nbformat_minor": 5
}
