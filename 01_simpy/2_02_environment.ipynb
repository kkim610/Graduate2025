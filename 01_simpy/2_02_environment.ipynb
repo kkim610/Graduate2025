{
 "cells": [
  {
   "cell_type": "markdown",
   "id": "91a11ba4-13be-4f6a-8eae-8d3bcd8e5ddd",
   "metadata": {},
   "source": [
    "## Environments\r\n",
    "A simulation environment manages the simulation time as well as the scheduling and processing of events. It also provides means to step through or execute the simulation.\r\n",
    "\r\n",
    "Normal simulations use Environment. For real-time simulations, SimPy provides a RealtimeEnvironment (more on that in Real-time simulations)."
   ]
  },
  {
   "cell_type": "markdown",
   "id": "7a4695bb-ee7f-46ff-8e84-b52b11592d66",
   "metadata": {},
   "source": [
    "## Simulation controls left."
   ]
  },
  {
   "cell_type": "markdown",
   "id": "f0f4fd65-b35f-4ba4-ae18-8efd52a5f73f",
   "metadata": {},
   "source": [
    "SimPy is very flexible in terms of simulation execution. You can run your simulation until there are no more events, until a certain simulation time is reached, or until a certain event is triggered. You can also step through the simulation event by event. Furthermore, you can mix these things as you like."
   ]
  },
  {
   "cell_type": "markdown",
   "id": "ee4fadd8-6b5f-419b-897f-cf35022b4e4d",
   "metadata": {},
   "source": [
    "For example, you could run your simulation until an interesting event occurs. You could then step through the simulation event by event for a while; and finally run the simulation until there are no more events left and your processes have all terminated."
   ]
  },
  {
   "cell_type": "markdown",
   "id": "3c66445c-ad03-4edb-9587-9823386fe7c9",
   "metadata": {},
   "source": [
    "The most important method here is Environment.run().  \n",
    "If you call it without any argument (env.run()), it steps through the simulation until there are no more events left."
   ]
  },
  {
   "cell_type": "markdown",
   "id": "0deea3db-ae41-424b-87b9-a6cce1ffdc7c",
   "metadata": {},
   "source": [
    "<font color='red'> If your processes run forever (while True: yield env.timeout(1)), this method will never terminate (unless you kill your script by e.g., pressing Ctrl-C). </font>"
   ]
  },
  {
   "cell_type": "markdown",
   "id": "bfccc664-a366-4dfc-9751-836d89927b9b",
   "metadata": {},
   "source": [
    "In most cases it is advisable to stop your simulation when it reaches a certain simulation time. Therefore, you can pass the desired time via the until parameter, e.g.: env.run(until=10).\r\n",
    "\r\n",
    "The simulation will then stop when the internal clock reaches 10 but will not process any events scheduled for time 10. This is similar to a new environment where the clock is 0 but (obviously) no events have yet been processed.\r\n",
    "\r\n",
    "If you want to integrate your simulation in a GUI and want to draw a process bar, you can repeatedly call this function with increasing until values and update your progress bar after each call:"
   ]
  },
  {
   "cell_type": "code",
   "execution_count": 1,
   "id": "71abcae7-8bb5-4a44-bf1e-f775360d4278",
   "metadata": {},
   "outputs": [
    {
     "name": "stdout",
     "output_type": "stream",
     "text": [
      "Requirement already satisfied: progressbar in c:\\users\\admin\\anaconda3\\lib\\site-packages (2.5)\n",
      "Note: you may need to restart the kernel to use updated packages.\n"
     ]
    }
   ],
   "source": [
    "pip install  progressbar"
   ]
  },
  {
   "cell_type": "code",
   "execution_count": 2,
   "id": "d91335b8-74ce-444a-b347-a641966060cf",
   "metadata": {},
   "outputs": [
    {
     "name": "stderr",
     "output_type": "stream",
     "text": [
      " 49% |###################################                                     |\r"
     ]
    }
   ],
   "source": [
    "import simpy\n",
    "import progressbar\n",
    "\n",
    "env = simpy.Environment()  \n",
    "bar = progressbar.ProgressBar().start()\n",
    "\n",
    "for i in range(1,50):  \n",
    "    env.run(until=i)\n",
    "    bar.update(i)"
   ]
  },
  {
   "cell_type": "markdown",
   "id": "bcc92e6b-3950-4df6-bf08-a8dddf49f8b0",
   "metadata": {},
   "source": [
    "Instead of passing a number to run(), you can also pass any event to it. run() will then return when the event has been processed.\r\n",
    "\r\n",
    "Assuming that the current time is 0, env.run(until=env.timeout(5)) is equivalent to env.run(until=5).\r\n",
    "\r\n",
    "You can also pass other types of events (remember, that a Process is an event, too):"
   ]
  },
  {
   "cell_type": "code",
   "execution_count": 3,
   "id": "758ef553-72bc-424d-92cf-9d5fdbb362bd",
   "metadata": {},
   "outputs": [
    {
     "data": {
      "text/plain": [
       "'Monty Python’s Flying Circus'"
      ]
     },
     "execution_count": 3,
     "metadata": {},
     "output_type": "execute_result"
    }
   ],
   "source": [
    "import simpy\n",
    "\n",
    "def my_proc(env):\n",
    "    yield env.timeout(1)\n",
    "    return 'Monty Python’s Flying Circus'\n",
    "\n",
    "env = simpy.Environment()\n",
    "proc = env.process(my_proc(env))\n",
    "env.run(until=proc)"
   ]
  },
  {
   "cell_type": "markdown",
   "id": "b321896a-eb84-4e33-a3c6-c008e6ca1cbb",
   "metadata": {},
   "source": [
    "To step through the simulation event by event, the environment offers peek() and step().\r\n",
    "\r\n",
    "peek() returns the time of the next scheduled event or infinity (float('inf')) if no future events are scheduled.\r\n",
    "\r\n",
    "step() processes the next scheduled event. It raises an EmptySchedule exception if no event is available.\r\n",
    "\r\n",
    "In a typical use case, you use these methods in a loop like:"
   ]
  },
  {
   "cell_type": "code",
   "execution_count": 4,
   "id": "efcaacb6-d169-4c5c-97e6-05e6167cf81f",
   "metadata": {},
   "outputs": [
    {
     "name": "stdout",
     "output_type": "stream",
     "text": [
      "B\n",
      "inf\n",
      "C\n"
     ]
    }
   ],
   "source": [
    "until = 10\n",
    "print(\"B\")\n",
    "print(env.peek())\n",
    "while env.peek() < until:\n",
    "    print(\"A\")\n",
    "    env.step()\n",
    "print(\"C\")"
   ]
  },
  {
   "cell_type": "markdown",
   "id": "4b6b1f68-fc65-450d-af39-80c3ba572ac6",
   "metadata": {},
   "source": [
    "## State access\r\n",
    "The environment allows you to get the current simulation time via the Environment.now property. The simulation time is a number without unit and is increased via Timeout events.\r\n",
    "\r\n",
    "By default, now starts at 0, but you can pass an initial_time to the Environment to use something else.\r\n",
    "\r\n",
    "Note\r\n",
    "\r\n",
    "Although the simulation time is technically unit-less, you can pretend that it is, for example, in seconds and use it like a timestamp returned by time.time() to calculate a date or the day of the week.\r\n",
    "\r\n",
    "The property Environment.active_process is comparable to os.getpid() and is either None or pointing at the currently active Process. A process is active when its process function is being executed. It becomes inactive (or suspended) when it yields an event.\r\n",
    "\r\n",
    "Thus, it only makes sense to access this property from within a process function or a function that is called by your process function:"
   ]
  },
  {
   "cell_type": "code",
   "execution_count": 8,
   "id": "9e184c33-7546-4ffa-8594-9c584fb5a3e2",
   "metadata": {},
   "outputs": [
    {
     "name": "stdout",
     "output_type": "stream",
     "text": [
      "DDD\n",
      "EEE\n",
      "AAA <Process(my_proc) object at 0x1b74825c3d0>\n",
      "BBB <Process(my_proc) object at 0x1b74825c3d0>\n",
      "FFF\n",
      "AAA <Process(my_proc) object at 0x1b74825c3d0>\n",
      "BBB <Process(my_proc) object at 0x1b74825c3d0>\n"
     ]
    }
   ],
   "source": [
    "def subfunc(env):\n",
    "    print(\"BBB\",env.active_process)  # will print \"p1\"\n",
    "\n",
    "def my_proc(env):\n",
    "    while True:\n",
    "        print(\"AAA\",env.active_process)  # will print \"p1\"\n",
    "        subfunc(env)\n",
    "        yield env.timeout(1)\n",
    "\n",
    "env = simpy.Environment()\n",
    "p1 = env.process(my_proc(env))\n",
    "print(\"DDD\")\n",
    "env.active_process  # None\n",
    "print(\"EEE\")\n",
    "env.step()\n",
    "print(\"FFF\")\n",
    "env.active_process  # None"
   ]
  },
  {
   "cell_type": "markdown",
   "id": "ce17909e-3daf-49c4-a8ca-67efaa86e054",
   "metadata": {},
   "source": [
    "An exemplary use case for this is the resource system: If a process function calls request() to request a resource, the resource determines the requesting process via env.active_process. Take a look at the code to see how we do this :-)."
   ]
  },
  {
   "cell_type": "markdown",
   "id": "8464431d-0552-40b6-af64-478927ae0dce",
   "metadata": {},
   "source": [
    "## Event creation\r\n",
    "To create events, you normally have to import simpy.events, instantiate the event class and pass a reference to the environment to it. To reduce the amount of typing, the Environment provides some shortcuts for event creation. For example, Environment.event() is equivalent to simpy.events.Event(env).\r\n",
    "\r\n",
    "Other shortcuts are:\r\n",
    "\r\n",
    "Environment.process()\r\n",
    "\r\n",
    "Environment.timeout()\r\n",
    "\r\n",
    "Environment.all_of()\r\n",
    "\r\n",
    "Environment.any_of()\r\n",
    "\r\n",
    "More details on what the events do can be found in the guide to events."
   ]
  },
  {
   "cell_type": "markdown",
   "id": "58cde1d3-f02d-4523-9687-a75d0f21919c",
   "metadata": {},
   "source": [
    "## Miscellaneous\r\n",
    "Since Python 3.3, a generator function can have a return value:"
   ]
  },
  {
   "cell_type": "code",
   "execution_count": 6,
   "id": "016efc17-cd2e-4923-8272-979f37351f1e",
   "metadata": {},
   "outputs": [],
   "source": [
    "def my_proc(env):\n",
    "    yield env.timeout(1)\n",
    "    return 42"
   ]
  },
  {
   "cell_type": "markdown",
   "id": "f4dccf8e-f80c-499f-8353-96a45e54f030",
   "metadata": {},
   "source": [
    "In SimPy, this can be used to provide return values for processes that can be used by other processes:"
   ]
  },
  {
   "cell_type": "code",
   "execution_count": 7,
   "id": "ccd7c2fd-60d1-404c-9340-7603d078f810",
   "metadata": {},
   "outputs": [],
   "source": [
    "def other_proc(env):\n",
    "    ret_val = yield env.process(my_proc(env))\n",
    "    assert ret_val == 42"
   ]
  },
  {
   "cell_type": "code",
   "execution_count": null,
   "id": "7c7cf8d0-0515-4554-adc5-65a96e11c3ed",
   "metadata": {},
   "outputs": [],
   "source": []
  }
 ],
 "metadata": {
  "kernelspec": {
   "display_name": "Python [conda env:base] *",
   "language": "python",
   "name": "conda-base-py"
  },
  "language_info": {
   "codemirror_mode": {
    "name": "ipython",
    "version": 3
   },
   "file_extension": ".py",
   "mimetype": "text/x-python",
   "name": "python",
   "nbconvert_exporter": "python",
   "pygments_lexer": "ipython3",
   "version": "3.11.7"
  }
 },
 "nbformat": 4,
 "nbformat_minor": 5
}
