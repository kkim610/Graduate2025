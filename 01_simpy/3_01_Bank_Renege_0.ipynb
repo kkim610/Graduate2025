{
 "cells": [
  {
   "cell_type": "markdown",
   "id": "34bc0c2e-88a1-4dbd-a526-6452de6bc752",
   "metadata": {},
   "source": [
    "# Bank Renege\n",
    "Covers:\n",
    "\n",
    "Resources: Resource\n",
    "\n",
    "Condition events\n",
    "\n",
    "A counter with a random service time and customers who renege. Based on the program bank08.py from TheBank tutorial of SimPy 2. (KGM)\n",
    "\n",
    "This example models a bank counter and customers arriving at random times. Each customer has a certain patience. She waits to get to the counter until she’s at the end of her tether. If she gets to the counter, she uses it for a while before releasing it.\n",
    "\n",
    "New customers are created by the source process every few time steps."
   ]
  },
  {
   "cell_type": "code",
   "execution_count": 1,
   "id": "145331e4-09c3-4806-9560-a0de12da124a",
   "metadata": {},
   "outputs": [
    {
     "data": {
      "text/plain": [
       "1.2214027581601699"
      ]
     },
     "execution_count": 1,
     "metadata": {},
     "output_type": "execute_result"
    }
   ],
   "source": [
    "import numpy as np\n",
    "\n",
    "np.exp(0.2)"
   ]
  },
  {
   "cell_type": "code",
   "execution_count": 3,
   "id": "999bbb47-b2dc-4cf5-9d4d-92ad8532323f",
   "metadata": {},
   "outputs": [
    {
     "name": "stdout",
     "output_type": "stream",
     "text": [
      " 0.0000 Customer00: Here I am\n",
      "Customer00 t 1.020060287274801\n",
      "Customer00 CCC\n",
      " 1.0201 Customer01: Here I am\n",
      "Customer01 t 0.02532883904273889\n",
      "Customer01 CCC\n",
      " 1.0454 Customer02: Here I am\n",
      "Customer02 t 0.3216240640749656\n",
      "Customer02 CCC\n",
      " 1.3670 Customer03: Here I am\n",
      "Customer03 t 0.25258618567011354\n",
      "Customer03 CCC\n",
      " 1.6196 Customer04: Here I am\n",
      "Customer04 t 1.333592672808083\n",
      "Customer04 CCC\n"
     ]
    }
   ],
   "source": [
    "\"\"\"\n",
    "Bank renege example\n",
    "\n",
    "Covers:\n",
    "\n",
    "- Resources: Resource\n",
    "- Condition events\n",
    "\n",
    "Scenario:\n",
    "  A counter with a random service time and customers who renege. Based on the\n",
    "  program bank08.py from TheBank tutorial of SimPy 2. (KGM)\n",
    "\n",
    "\"\"\"\n",
    "\n",
    "import random\n",
    "\n",
    "import simpy\n",
    "\n",
    "RANDOM_SEED = 42\n",
    "NEW_CUSTOMERS = 5  # Total number of customers\n",
    "INTERVAL_CUSTOMERS = 10.0  # Generate new customers roughly every x seconds\n",
    "MIN_PATIENCE = 1  # Min. customer patience\n",
    "MAX_PATIENCE = 3  # Max. customer patience\n",
    "\n",
    "\n",
    "def source(env, number, interval, counter):\n",
    "    \"\"\"Source generates customers randomly\"\"\"\n",
    "    for i in range(number):\n",
    "        c = customer(env, f'Customer{i:02d}', counter, time_in_bank=12.0)\n",
    "        #env.process(c)\n",
    "        #print(f'Customer{i:02d}',\"AAA\")\n",
    "        interval = 1\n",
    "        t = random.expovariate(1.0 / interval)\n",
    "        print(f'Customer{i:02d}', \"t\", t)\n",
    "        yield env.timeout(t)\n",
    "        print(f'Customer{i:02d}', \"CCC\")        \n",
    "\n",
    "\n",
    "def customer(env, name, counter, time_in_bank):\n",
    "    \"\"\"Customer arrives, is served and leaves.\"\"\"\n",
    "    arrive = env.now\n",
    "    print(f'{arrive:7.4f} {name}: Here I am')\n",
    "    '''\n",
    "    with counter.request() as req:\n",
    "        patience = random.uniform(MIN_PATIENCE, MAX_PATIENCE)\n",
    "        # Wait for the counter or abort at the end of our tether\n",
    "        results = yield req | env.timeout(patience)\n",
    "        print(f'{env.now:7.4f} {name} results',results)\n",
    "        wait = env.now - arrive\n",
    "\n",
    "        if req in results:\n",
    "            # We got to the counter\n",
    "            print(f'{env.now:7.4f} {name}: Waited {wait:6.3f}')\n",
    "\n",
    "            tib = random.expovariate(1.0 / time_in_bank)\n",
    "            yield env.timeout(tib)\n",
    "            print(f'{env.now:7.4f} {name}: Finished')\n",
    "\n",
    "        else:\n",
    "            # We reneged\n",
    "            print(f'{env.now:7.4f} {name}: RENEGED after {wait:6.3f}')\n",
    "\n",
    "    '''\n",
    "# Setup and start the simulation\n",
    "#print('Bank renege')\n",
    "random.seed(RANDOM_SEED)\n",
    "env = simpy.Environment()\n",
    "\n",
    "# Start processes and run\n",
    "counter = simpy.Resource(env, capacity=1)\n",
    "env.process(source(env, NEW_CUSTOMERS, INTERVAL_CUSTOMERS, counter))\n",
    "env.run()"
   ]
  },
  {
   "cell_type": "code",
   "execution_count": null,
   "id": "81b827c3-78b2-445b-91ba-678362adf6c6",
   "metadata": {},
   "outputs": [],
   "source": []
  }
 ],
 "metadata": {
  "kernelspec": {
   "display_name": "Python [conda env:base] *",
   "language": "python",
   "name": "conda-base-py"
  },
  "language_info": {
   "codemirror_mode": {
    "name": "ipython",
    "version": 3
   },
   "file_extension": ".py",
   "mimetype": "text/x-python",
   "name": "python",
   "nbconvert_exporter": "python",
   "pygments_lexer": "ipython3",
   "version": "3.11.7"
  }
 },
 "nbformat": 4,
 "nbformat_minor": 5
}
